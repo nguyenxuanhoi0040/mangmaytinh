{
 "cells": [
  {
   "cell_type": "markdown",
   "id": "5222932f",
   "metadata": {},
   "source": [
    "Bài 3. Viết và triển khai Smart Contract đơn giản bằng Python\n",
    "Mục tiêu: Làm quen với Smart Contract và công cụ Web3.py trong phạm vi đơn giản nhất.\n",
    "Yêu cầu:\n",
    " Dùng mã Solidity đã trình bày trong chương 4 để viết một hợp đồng lưu thông điệp.\n",
    " Biên dịch hợp đồng bằng solcx.\n",
    " Dùng Web3.py kết nối Ganache và triển khai hợp đồng.\n",
    "Gửi thông điệp mới và đọc lại thông điệp đã lưu."
   ]
  },
  {
   "cell_type": "code",
   "execution_count": 1,
   "id": "2ace549c",
   "metadata": {},
   "outputs": [
    {
     "name": "stdout",
     "output_type": "stream",
     "text": [
      "Địa chỉ hợp đồng: 0x0681f29Bec129df73c949b9bB5109D961d2C3582\n",
      "Thông điệp ban đầu: Xin chào blockchain!\n",
      "Thông điệp mới: Thông điệp mới từ Python!\n"
     ]
    }
   ],
   "source": [
    "from solcx import compile_source, install_solc\n",
    "from web3 import Web3\n",
    "\n",
    "# Cài phiên bản Solidity compiler\n",
    "install_solc('0.8.0')\n",
    "\n",
    "# 1. Kết nối Ganache\n",
    "w3 = Web3(Web3.HTTPProvider(\"http://127.0.0.1:7545\"))\n",
    "assert w3.is_connected(), \"Không kết nối được Ganache!\"\n",
    "\n",
    "# 2. Lấy tài khoản đầu tiên làm người deploy\n",
    "w3.eth.default_account = w3.eth.accounts[0]\n",
    "\n",
    "# 3. Mã nguồn Solidity\n",
    "contract_source_code = '''\n",
    "pragma solidity ^0.8.0;\n",
    "\n",
    "contract messagestorage {\n",
    "    string public message;\n",
    "\n",
    "    constructor(string memory initialMessage) {\n",
    "        message = initialMessage;\n",
    "    }\n",
    "\n",
    "    function setMessage(string memory newMessage) public {\n",
    "        message = newMessage;\n",
    "    }\n",
    "}\n",
    "'''\n",
    "\n",
    "# 4. Compile source code\n",
    "compiled_sol = compile_source(contract_source_code, solc_version='0.8.0')\n",
    "contract_id, contract_interface = compiled_sol.popitem()\n",
    "\n",
    "# 5. Lấy ABI và bytecode\n",
    "abi = contract_interface['abi']\n",
    "bytecode = contract_interface['bin']\n",
    "\n",
    "# 6. Tạo contract object\n",
    "HelloMessage = w3.eth.contract(abi=abi, bytecode=bytecode)\n",
    "\n",
    "# 7. Deploy contract (khởi tạo message ban đầu)\n",
    "tx_hash = HelloMessage.constructor(\"Xin chào blockchain!\").transact()\n",
    "tx_receipt = w3.eth.wait_for_transaction_receipt(tx_hash)\n",
    "contract_address = tx_receipt.contractAddress\n",
    "print(f\"Địa chỉ hợp đồng: {contract_address}\")\n",
    "\n",
    "# 8. Tạo instance contract đã triển khai\n",
    "contract_instance = w3.eth.contract(address=contract_address, abi=abi)\n",
    "\n",
    "# 9. Đọc thông điệp ban đầu\n",
    "print(\"Thông điệp ban đầu:\", contract_instance.functions.message().call())\n",
    "\n",
    "# 10. Gửi thông điệp mới\n",
    "tx_hash2 = contract_instance.functions.setMessage(\"Thông điệp mới từ Python!\").transact()\n",
    "w3.eth.wait_for_transaction_receipt(tx_hash2)\n",
    "\n",
    "# 11. Đọc lại thông điệp sau khi thay đổi\n",
    "print(\"Thông điệp mới:\", contract_instance.functions.message().call())\n"
   ]
  }
 ],
 "metadata": {
  "kernelspec": {
   "display_name": "Python 3",
   "language": "python",
   "name": "python3"
  },
  "language_info": {
   "codemirror_mode": {
    "name": "ipython",
    "version": 3
   },
   "file_extension": ".py",
   "mimetype": "text/x-python",
   "name": "python",
   "nbconvert_exporter": "python",
   "pygments_lexer": "ipython3",
   "version": "3.12.0rc2"
  }
 },
 "nbformat": 4,
 "nbformat_minor": 5
}
