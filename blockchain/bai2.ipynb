{
 "cells": [
  {
   "cell_type": "markdown",
   "id": "078e83de",
   "metadata": {},
   "source": [
    "Bài 2. Viết chương trình Python nhập một chuỗi bất kỳ (ví dụ: \"Học phần Mạng máy tính\") và tính mã băm (hash)\n",
    "bằng SHA-256. Sau đó, thay đổi một ký tự và quan sát sự thay đổi mã băm (hash).\n",
    "Gợi ý:\n",
    "• Dùng thư viện hashlib.\n",
    "• Trình bày nhận xét: chỉ một thay đổi nhỏ → mã băm (hash) thay đổi toàn bộ"
   ]
  },
  {
   "cell_type": "code",
   "execution_count": 1,
   "id": "6fba3fdd",
   "metadata": {},
   "outputs": [
    {
     "name": "stdout",
     "output_type": "stream",
     "text": [
      "\n",
      "Chuỗi gốc: 'abc'\n",
      "Mã băm SHA-256: ba7816bf8f01cfea414140de5dae2223b00361a396177a9cb410ff61f20015ad\n",
      "\n",
      "Chuỗi đã thay đổi: 'abXYZ'\n",
      "Mã băm SHA-256 mới: 2481f0d65dd070221005a0cb17090043d96c7710d90e28f9af3cd9787c5f8c83\n",
      "\n",
      "=== Nhận xét ===\n",
      "Số ký tự thay đổi: 1\n",
      "Số bit hash giống nhau: 2/64\n",
      "Tỷ lệ giống nhau: 3.12%\n",
      "\n",
      "Hash gốc (binary): 1011101001111000000101101011111110001111000000011100111111101010010000010100000101000000110111100101110110101110001000100010001110110000000000110110000110100011100101100001011101111010100111001011010000010000111111110110000111110010000000000001010110101101\n",
      "Hash mới (binary): 0010010010000001111100001101011001011101110100000111000000100010000100000000010110100000110010110001011100001001000000000100001111011001011011000111011100010000110110010000111000101000111110011010111100111100110110010111100001111100010111111000110010000011\n"
     ]
    }
   ],
   "source": [
    "import hashlib\n",
    "\n",
    "def calculate_sha256(input_string):\n",
    "    # Tạo đối tượng hash SHA-256\n",
    "    sha256_hash = hashlib.sha256()\n",
    "    \n",
    "    # Mã hóa chuỗi thành bytes (UTF-8) và cập nhật hash\n",
    "    sha256_hash.update(input_string.encode('utf-8'))\n",
    "    \n",
    "    # Trả về giá trị hash dạng hex\n",
    "    return sha256_hash.hexdigest()\n",
    "\n",
    "# Nhập chuỗi từ người dùng\n",
    "original_string = input(\"Nhập chuỗi cần hash : \")\n",
    "\n",
    "# Tính hash ban đầu\n",
    "original_hash = calculate_sha256(original_string)\n",
    "print(f\"\\nChuỗi gốc: '{original_string}'\")\n",
    "print(f\"Mã băm SHA-256: {original_hash}\")\n",
    "\n",
    "# Tạo chuỗi thay đổi (đổi ký tự cuối cùng)\n",
    "if len(original_string) > 0:\n",
    "    modified_string = original_string[:-1] + 'XYZ'   # Thay đổi ký tự cuối cùng\n",
    "else:\n",
    "    modified_string = \"XYZ\"  # Nếu chuỗi rỗng\n",
    "\n",
    "# Tính hash sau khi thay đổi\n",
    "modified_hash = calculate_sha256(modified_string)\n",
    "print(f\"\\nChuỗi đã thay đổi: '{modified_string}'\")\n",
    "print(f\"Mã băm SHA-256 mới: {modified_hash}\")\n",
    "\n",
    "# So sánh\n",
    "print(\"\\n=== Nhận xét ===\")\n",
    "print(f\"Số ký tự thay đổi: 1\")\n",
    "print(f\"Số bit hash giống nhau: {sum(a == b for a, b in zip(original_hash, modified_hash))}/64\")\n",
    "print(f\"Tỷ lệ giống nhau: {sum(a == b for a, b in zip(original_hash, modified_hash))/64*100:.2f}%\")\n",
    "\n",
    "# Hiển thị hash dạng binary để quan sát sự khác biệt\n",
    "print(\"\\nHash gốc (binary):\", bin(int(original_hash, 16))[2:].zfill(256))\n",
    "print(\"Hash mới (binary):\", bin(int(modified_hash, 16))[2:].zfill(256))"
   ]
  }
 ],
 "metadata": {
  "kernelspec": {
   "display_name": "Python 3",
   "language": "python",
   "name": "python3"
  },
  "language_info": {
   "codemirror_mode": {
    "name": "ipython",
    "version": 3
   },
   "file_extension": ".py",
   "mimetype": "text/x-python",
   "name": "python",
   "nbconvert_exporter": "python",
   "pygments_lexer": "ipython3",
   "version": "3.12.0"
  }
 },
 "nbformat": 4,
 "nbformat_minor": 5
}
