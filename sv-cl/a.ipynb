{
 "cells": [
  {
   "cell_type": "code",
   "execution_count": 1,
   "metadata": {},
   "outputs": [
    {
     "name": "stdout",
     "output_type": "stream",
     "text": [
      "Time: 2025-04-04 23:15: Temp: 22.3°C - Humidity: 83% - Condition: Partly cloudy\n"
     ]
    }
   ],
   "source": [
    "import requests\n",
    "YOUR_API_KEY = 'aa5110c9fc0a4aac95f65828252603'\n",
    "api_key = YOUR_API_KEY\n",
    "city = 'Hanoi'\n",
    "url = f'http://api.weatherapi.com/v1/current.json?key={api_key}&q={city}&aqi=no'\n",
    "response = requests.get(url)\n",
    "if response.status_code == 200:\n",
    "    data = response.json()\n",
    "    time = data['current']['last_updated']\n",
    "    temp = data['current']['temp_c']\n",
    "    humidity = data['current']['humidity']\n",
    "    condition = data['current']['condition']['text']\n",
    "    print(f'Time: {time}: Temp: {temp}°C - Humidity: {humidity}% - Condition: {condition}')\n",
    "else:\n",
    "    print('Không thể kết nối đến API.'),\n",
    "response.close()"
   ]
  },
  {
   "cell_type": "code",
   "execution_count": 2,
   "metadata": {},
   "outputs": [
    {
     "name": "stdout",
     "output_type": "stream",
     "text": [
      "\n",
      "    All products | Books to Scrape - Sandbox\n",
      "\n"
     ]
    }
   ],
   "source": [
    "import requests\n",
    "from bs4 import BeautifulSoup\n",
    "url = 'https://books.toscrape.com/'\n",
    "soup = BeautifulSoup(requests.get(url).text, 'html.parser')\n",
    "page_title = soup.title.text\n",
    "print(page_title)"
   ]
  }
 ],
 "metadata": {
  "kernelspec": {
   "display_name": "Python 3",
   "language": "python",
   "name": "python3"
  },
  "language_info": {
   "codemirror_mode": {
    "name": "ipython",
    "version": 3
   },
   "file_extension": ".py",
   "mimetype": "text/x-python",
   "name": "python",
   "nbconvert_exporter": "python",
   "pygments_lexer": "ipython3",
   "version": "3.12.0rc2"
  }
 },
 "nbformat": 4,
 "nbformat_minor": 2
}
