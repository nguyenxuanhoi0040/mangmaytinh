{
 "cells": [
  {
   "cell_type": "code",
   "execution_count": 3,
   "metadata": {},
   "outputs": [
    {
     "name": "stdout",
     "output_type": "stream",
     "text": [
      "                                             Tên sách  Giá (nghìn VND)  \\\n",
      "0                                 Đọc Sách, Điểm Sách               52   \n",
      "1                Sách - Phương Pháp Đọc Sách Hiệu Quả              129   \n",
      "2                           Sách: Đọc Sách Cộng Hưởng               53   \n",
      "3   Sách Phân Tâm Học Nhập Môn (Tặng kèm Bộ Bookma...              143   \n",
      "4   Sách Nghệ Thuật Tư Duy Rành Mạch (Tặng kèm Bộ ...              106   \n",
      "5             Sách - Làm thế nào để đọc sách hiệu quả               81   \n",
      "6                         Sách - Bản Thiết Kế Trí Tuệ              127   \n",
      "7   Sách Bức Xúc Không Làm Ta Vô Can (Tặng kèm Bộ ...               85   \n",
      "8   Sách Phương Pháp Đọc Sách Hiệu Quả (Tái bản Mớ...              134   \n",
      "9   Phương Pháp Đọc Sách Hiệu Quả (*** Sách Bản Qu...              134   \n",
      "10                      Sách - Định Vị (Tái Bản 2020)              141   \n",
      "11  Sách - Cuốn Sách Lớn Rực Rỡ về Kỹ Năng (tặng k...               71   \n",
      "12        Sách Đời Ngắn Đừng Ngủ Dài ( free bookcare)               67   \n",
      "13                       Sách - Tâm lý học thành công              141   \n",
      "14                       Sách - Tâm lý học thành công              147   \n",
      "15              Sách - Trí Tuệ Do Thái (Tái Bản 2018)              136   \n",
      "16        Trí Tuệ Do Thái ( Tặng Bookmark Tuyệt Đẹp )              136   \n",
      "17                  Sách Thiên Nga Đen (Tái Bản 2022)              236   \n",
      "18                           Sách - Logic của tâm trí              129   \n",
      "19                           Sách - Logic của tâm trí              129   \n",
      "\n",
      "   Thương hiệu  \n",
      "0     Không rõ  \n",
      "1     Không rõ  \n",
      "2     Không rõ  \n",
      "3     Không rõ  \n",
      "4     Không rõ  \n",
      "5     Không rõ  \n",
      "6     Không rõ  \n",
      "7     Không rõ  \n",
      "8     Không rõ  \n",
      "9     Không rõ  \n",
      "10    Không rõ  \n",
      "11    Không rõ  \n",
      "12    Không rõ  \n",
      "13    Không rõ  \n",
      "14    Không rõ  \n",
      "15    Không rõ  \n",
      "16    Không rõ  \n",
      "17    Không rõ  \n",
      "18    Không rõ  \n",
      "19    Không rõ  \n"
     ]
    }
   ],
   "source": [
    "import requests \n",
    "import pandas as pd\n",
    "url = \"https://tiki.vn/api/v2/products?q=sách&limit=20\"\n",
    "params = {\n",
    "    \"q\" : \"sách\",\n",
    "    \"limit\" : 20\n",
    "    }\n",
    "headers = {\n",
    "    \"User-Agent\": \"Mozilla/5.0\"\n",
    "    }\n",
    "response = requests.get(url, params=params, headers=headers)\n",
    "data = response.json()  # Parse dữ liệu JSON trả về \n",
    "# Khởi tạo danh sách để lưu trữ thông tin sách \n",
    "books = [] \n",
    "for item in data['data']:  # Duyệt qua từng sản phẩm trong mảng 'data' \n",
    "    books.append({ \n",
    "    'Tên sách': item['name'], \n",
    "    'Giá (nghìn VND)': item['price'] // 1000, \n",
    "    'Thương hiệu': item.get('brand', {}).get('name', 'Không rõ') \n",
    "    }) \n",
    "# Chuyển sang DataFrame để hiển thị dạng bảng \n",
    "df = pd.DataFrame(books) \n",
    "print(df)"
   ]
  }
 ],
 "metadata": {
  "kernelspec": {
   "display_name": "Python 3",
   "language": "python",
   "name": "python3"
  },
  "language_info": {
   "codemirror_mode": {
    "name": "ipython",
    "version": 3
   },
   "file_extension": ".py",
   "mimetype": "text/x-python",
   "name": "python",
   "nbconvert_exporter": "python",
   "pygments_lexer": "ipython3",
   "version": "3.12.0rc2"
  }
 },
 "nbformat": 4,
 "nbformat_minor": 2
}
